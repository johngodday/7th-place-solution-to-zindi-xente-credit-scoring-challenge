{
 "cells": [
  {
   "cell_type": "markdown",
   "metadata": {},
   "source": [
    "# <center>Standard Bank Tech Impact Challege: Xente Credit Scoring Challege</center>"
   ]
  },
  {
   "cell_type": "markdown",
   "metadata": {},
   "source": [
    "### <center>My 7Th Position Code Solution</center>"
   ]
  },
  {
   "cell_type": "markdown",
   "metadata": {},
   "source": [
    "#### Summary Of The Challenge:"
   ]
  },
  {
   "cell_type": "markdown",
   "metadata": {},
   "source": [
    "This challenge was hosted on <a href =\"https://zindi.africa/competitions/sbtic-xente-credit-scoring-challenge\">Zindi</a>. The objective of this challenge is to create a machine learning model to predict which individuals are most likely to default on their loans, based on their loan repayment behaviour and ecommerce transaction activity.\n",
    "\n",
    "The resulting models and solutions will help Xente refine their credit decision processes, and enable them to more adequately assess the creditworthiness of new and existing clients. For Xente, this may result in improved profitability and financial sustainability; while for Xente’s cliente, increased creditworthiness would enhance their access to credit and contribute to an improved livelihood.\n",
    "\n",
    "This challenge is hosted by Xente, in association with Standard Bank"
   ]
  },
  {
   "cell_type": "code",
   "execution_count": 1,
   "metadata": {},
   "outputs": [],
   "source": [
    "import pandas as pd\n",
    "import numpy as np\n",
    "import warnings\n",
    "warnings.filterwarnings('ignore')\n",
    "pd.set_option('display.max_columns', None)"
   ]
  },
  {
   "cell_type": "code",
   "execution_count": 2,
   "metadata": {},
   "outputs": [],
   "source": [
    "train = pd.read_csv('Train.csv')\n",
    "test = pd.read_csv('Test.csv')\n",
    "masked = pd.read_csv('unlinked_masked_final.csv')\n",
    "sub = pd.read_csv('sample_submission.csv')"
   ]
  },
  {
   "cell_type": "code",
   "execution_count": 3,
   "metadata": {},
   "outputs": [],
   "source": [
    "train.dropna(axis = 0, inplace = True)\n",
    "test.dropna(axis = 0, inplace = True)"
   ]
  },
  {
   "cell_type": "code",
   "execution_count": 4,
   "metadata": {},
   "outputs": [
    {
     "data": {
      "text/html": [
       "<div>\n",
       "<style scoped>\n",
       "    .dataframe tbody tr th:only-of-type {\n",
       "        vertical-align: middle;\n",
       "    }\n",
       "\n",
       "    .dataframe tbody tr th {\n",
       "        vertical-align: top;\n",
       "    }\n",
       "\n",
       "    .dataframe thead th {\n",
       "        text-align: right;\n",
       "    }\n",
       "</style>\n",
       "<table border=\"1\" class=\"dataframe\">\n",
       "  <thead>\n",
       "    <tr style=\"text-align: right;\">\n",
       "      <th></th>\n",
       "      <th>CustomerId</th>\n",
       "      <th>TransactionStartTime</th>\n",
       "      <th>Value</th>\n",
       "      <th>Amount</th>\n",
       "      <th>TransactionId</th>\n",
       "      <th>BatchId</th>\n",
       "      <th>SubscriptionId</th>\n",
       "      <th>CurrencyCode</th>\n",
       "      <th>CountryCode</th>\n",
       "      <th>ProviderId</th>\n",
       "      <th>ProductId</th>\n",
       "      <th>ProductCategory</th>\n",
       "      <th>ChannelId</th>\n",
       "      <th>TransactionStatus</th>\n",
       "      <th>IssuedDateLoan</th>\n",
       "      <th>AmountLoan</th>\n",
       "      <th>Currency</th>\n",
       "      <th>LoanId</th>\n",
       "      <th>PaidOnDate</th>\n",
       "      <th>IsFinalPayBack</th>\n",
       "      <th>InvestorId</th>\n",
       "      <th>DueDate</th>\n",
       "      <th>LoanApplicationId</th>\n",
       "      <th>PayBackId</th>\n",
       "      <th>ThirdPartyId</th>\n",
       "      <th>IsThirdPartyConfirmed</th>\n",
       "      <th>IsDefaulted</th>\n",
       "    </tr>\n",
       "  </thead>\n",
       "  <tbody>\n",
       "    <tr>\n",
       "      <th>15</th>\n",
       "      <td>CustomerId_233</td>\n",
       "      <td>2018-10-22 16:04:25</td>\n",
       "      <td>5000.0</td>\n",
       "      <td>-5000.0</td>\n",
       "      <td>TransactionId_2632</td>\n",
       "      <td>BatchId_775</td>\n",
       "      <td>SubscriptionId_4</td>\n",
       "      <td>UGX</td>\n",
       "      <td>256</td>\n",
       "      <td>ProviderId_1</td>\n",
       "      <td>ProductId_7</td>\n",
       "      <td>airtime</td>\n",
       "      <td>ChannelId_1</td>\n",
       "      <td>1</td>\n",
       "      <td>2018-10-22 16:04:22</td>\n",
       "      <td>5375.0</td>\n",
       "      <td>UGX</td>\n",
       "      <td>LoanId_317</td>\n",
       "      <td>2018-10-30 06:49:57</td>\n",
       "      <td>1.0</td>\n",
       "      <td>InvestorId_3</td>\n",
       "      <td>2018-11-21 16:03:32</td>\n",
       "      <td>LoanApplicationId_1629</td>\n",
       "      <td>PayBackId_1719</td>\n",
       "      <td>ThirdPartyId_1010</td>\n",
       "      <td>0.0</td>\n",
       "      <td>0.0</td>\n",
       "    </tr>\n",
       "    <tr>\n",
       "      <th>17</th>\n",
       "      <td>CustomerId_305</td>\n",
       "      <td>2018-10-23 13:12:23</td>\n",
       "      <td>500.0</td>\n",
       "      <td>-500.0</td>\n",
       "      <td>TransactionId_1297</td>\n",
       "      <td>BatchId_2016</td>\n",
       "      <td>SubscriptionId_1</td>\n",
       "      <td>UGX</td>\n",
       "      <td>256</td>\n",
       "      <td>ProviderId_1</td>\n",
       "      <td>ProductId_7</td>\n",
       "      <td>airtime</td>\n",
       "      <td>ChannelId_1</td>\n",
       "      <td>1</td>\n",
       "      <td>2018-10-23 13:12:21</td>\n",
       "      <td>543.0</td>\n",
       "      <td>UGX</td>\n",
       "      <td>LoanId_1619</td>\n",
       "      <td>2018-10-23 13:18:42</td>\n",
       "      <td>1.0</td>\n",
       "      <td>InvestorId_2</td>\n",
       "      <td>2018-11-22 13:12:16</td>\n",
       "      <td>LoanApplicationId_136</td>\n",
       "      <td>PayBackId_725</td>\n",
       "      <td>ThirdPartyId_1566</td>\n",
       "      <td>0.0</td>\n",
       "      <td>0.0</td>\n",
       "    </tr>\n",
       "  </tbody>\n",
       "</table>\n",
       "</div>"
      ],
      "text/plain": [
       "        CustomerId TransactionStartTime   Value  Amount       TransactionId  \\\n",
       "15  CustomerId_233  2018-10-22 16:04:25  5000.0 -5000.0  TransactionId_2632   \n",
       "17  CustomerId_305  2018-10-23 13:12:23   500.0  -500.0  TransactionId_1297   \n",
       "\n",
       "         BatchId    SubscriptionId CurrencyCode  CountryCode    ProviderId  \\\n",
       "15   BatchId_775  SubscriptionId_4          UGX          256  ProviderId_1   \n",
       "17  BatchId_2016  SubscriptionId_1          UGX          256  ProviderId_1   \n",
       "\n",
       "      ProductId ProductCategory    ChannelId  TransactionStatus  \\\n",
       "15  ProductId_7         airtime  ChannelId_1                  1   \n",
       "17  ProductId_7         airtime  ChannelId_1                  1   \n",
       "\n",
       "         IssuedDateLoan  AmountLoan Currency       LoanId  \\\n",
       "15  2018-10-22 16:04:22      5375.0      UGX   LoanId_317   \n",
       "17  2018-10-23 13:12:21       543.0      UGX  LoanId_1619   \n",
       "\n",
       "             PaidOnDate  IsFinalPayBack    InvestorId              DueDate  \\\n",
       "15  2018-10-30 06:49:57             1.0  InvestorId_3  2018-11-21 16:03:32   \n",
       "17  2018-10-23 13:18:42             1.0  InvestorId_2  2018-11-22 13:12:16   \n",
       "\n",
       "         LoanApplicationId       PayBackId       ThirdPartyId  \\\n",
       "15  LoanApplicationId_1629  PayBackId_1719  ThirdPartyId_1010   \n",
       "17   LoanApplicationId_136   PayBackId_725  ThirdPartyId_1566   \n",
       "\n",
       "    IsThirdPartyConfirmed  IsDefaulted  \n",
       "15                    0.0          0.0  \n",
       "17                    0.0          0.0  "
      ]
     },
     "execution_count": 4,
     "metadata": {},
     "output_type": "execute_result"
    }
   ],
   "source": [
    "train.head(2)"
   ]
  },
  {
   "cell_type": "code",
   "execution_count": 5,
   "metadata": {},
   "outputs": [
    {
     "name": "stdout",
     "output_type": "stream",
     "text": [
      "Index(['CustomerId', 'TransactionStartTime', 'Value', 'Amount',\n",
      "       'TransactionId', 'BatchId', 'SubscriptionId', 'CurrencyCode',\n",
      "       'CountryCode', 'ProviderId', 'ProductId', 'ProductCategory',\n",
      "       'ChannelId', 'TransactionStatus', 'IssuedDateLoan', 'AmountLoan',\n",
      "       'Currency', 'LoanId', 'PaidOnDate', 'IsFinalPayBack', 'InvestorId',\n",
      "       'DueDate', 'LoanApplicationId', 'PayBackId', 'ThirdPartyId',\n",
      "       'IsThirdPartyConfirmed', 'IsDefaulted'],\n",
      "      dtype='object')\n",
      "Index(['CustomerId', 'TransactionStartTime', 'Value', 'Amount',\n",
      "       'TransactionId', 'BatchId', 'SubscriptionId', 'CurrencyCode',\n",
      "       'CountryCode', 'ProviderId', 'ProductId', 'ProductCategory',\n",
      "       'ChannelId', 'TransactionStatus', 'IssuedDateLoan', 'LoanId',\n",
      "       'InvestorId', 'LoanApplicationId', 'ThirdPartyId'],\n",
      "      dtype='object')\n"
     ]
    }
   ],
   "source": [
    "print(train.columns)\n",
    "print(test.columns)"
   ]
  },
  {
   "cell_type": "code",
   "execution_count": 6,
   "metadata": {},
   "outputs": [],
   "source": [
    "#New Features by Aggregating\n",
    "train['customer_subscriptions'] = train['SubscriptionId'].map(train.groupby('SubscriptionId')['CustomerId'].count())\n",
    "test['customer_subscriptions'] = test['SubscriptionId'].map(test.groupby('SubscriptionId')['CustomerId'].count())\n",
    "\n",
    "train['customer_providers'] = train['ProviderId'].map(train.groupby('ProviderId')['CustomerId'].count())\n",
    "test['customer_providers'] = test['ProviderId'].map(test.groupby('ProviderId')['CustomerId'].count())\n",
    "\n",
    "train['customer_products'] = train['ProductId'].map(train.groupby('ProductId')['CustomerId'].count())\n",
    "test['customer_products'] = test['ProductId'].map(test.groupby('ProductId')['CustomerId'].count())\n",
    "\n",
    "train['customer_loanids'] = train['LoanId'].map(train.groupby('LoanId')['CustomerId'].count())\n",
    "test['customer_loanids'] = test['LoanId'].map(test.groupby('LoanId')['CustomerId'].count())"
   ]
  },
  {
   "cell_type": "code",
   "execution_count": 9,
   "metadata": {},
   "outputs": [],
   "source": [
    "train['TransactionStartTime'] = pd.to_datetime(train['TransactionStartTime'])\n",
    "test['TransactionStartTime'] = pd.to_datetime(test['TransactionStartTime'])"
   ]
  },
  {
   "cell_type": "code",
   "execution_count": 10,
   "metadata": {},
   "outputs": [],
   "source": [
    "train['year'] =  train['TransactionStartTime'].dt.year\n",
    "test['year'] =  test['TransactionStartTime'].dt.year\n",
    "\n",
    "train['month'] =  train['TransactionStartTime'].dt.month\n",
    "test['month'] =  test['TransactionStartTime'].dt.month\n",
    "\n",
    "train['day'] =  train['TransactionStartTime'].dt.day\n",
    "test['day'] =  test['TransactionStartTime'].dt.day"
   ]
  },
  {
   "cell_type": "code",
   "execution_count": 11,
   "metadata": {},
   "outputs": [
    {
     "data": {
      "text/html": [
       "<div>\n",
       "<style scoped>\n",
       "    .dataframe tbody tr th:only-of-type {\n",
       "        vertical-align: middle;\n",
       "    }\n",
       "\n",
       "    .dataframe tbody tr th {\n",
       "        vertical-align: top;\n",
       "    }\n",
       "\n",
       "    .dataframe thead th {\n",
       "        text-align: right;\n",
       "    }\n",
       "</style>\n",
       "<table border=\"1\" class=\"dataframe\">\n",
       "  <thead>\n",
       "    <tr style=\"text-align: right;\">\n",
       "      <th></th>\n",
       "      <th>CustomerId</th>\n",
       "      <th>TransactionStartTime</th>\n",
       "      <th>Value</th>\n",
       "      <th>Amount</th>\n",
       "      <th>TransactionId</th>\n",
       "      <th>BatchId</th>\n",
       "      <th>SubscriptionId</th>\n",
       "      <th>CurrencyCode</th>\n",
       "      <th>CountryCode</th>\n",
       "      <th>ProviderId</th>\n",
       "      <th>ProductId</th>\n",
       "      <th>ProductCategory</th>\n",
       "      <th>ChannelId</th>\n",
       "      <th>TransactionStatus</th>\n",
       "      <th>IssuedDateLoan</th>\n",
       "      <th>AmountLoan</th>\n",
       "      <th>Currency</th>\n",
       "      <th>LoanId</th>\n",
       "      <th>PaidOnDate</th>\n",
       "      <th>IsFinalPayBack</th>\n",
       "      <th>InvestorId</th>\n",
       "      <th>DueDate</th>\n",
       "      <th>LoanApplicationId</th>\n",
       "      <th>PayBackId</th>\n",
       "      <th>ThirdPartyId</th>\n",
       "      <th>IsThirdPartyConfirmed</th>\n",
       "      <th>IsDefaulted</th>\n",
       "      <th>customer_subscriptions</th>\n",
       "      <th>customer_providers</th>\n",
       "      <th>customer_products</th>\n",
       "      <th>customer_loanids</th>\n",
       "      <th>year</th>\n",
       "      <th>month</th>\n",
       "      <th>day</th>\n",
       "    </tr>\n",
       "  </thead>\n",
       "  <tbody>\n",
       "    <tr>\n",
       "      <th>15</th>\n",
       "      <td>CustomerId_233</td>\n",
       "      <td>2018-10-22 16:04:25</td>\n",
       "      <td>5000.0</td>\n",
       "      <td>-5000.0</td>\n",
       "      <td>TransactionId_2632</td>\n",
       "      <td>BatchId_775</td>\n",
       "      <td>SubscriptionId_4</td>\n",
       "      <td>UGX</td>\n",
       "      <td>256</td>\n",
       "      <td>ProviderId_1</td>\n",
       "      <td>ProductId_7</td>\n",
       "      <td>airtime</td>\n",
       "      <td>ChannelId_1</td>\n",
       "      <td>1</td>\n",
       "      <td>2018-10-22 16:04:22</td>\n",
       "      <td>5375.0</td>\n",
       "      <td>UGX</td>\n",
       "      <td>LoanId_317</td>\n",
       "      <td>2018-10-30 06:49:57</td>\n",
       "      <td>1.0</td>\n",
       "      <td>InvestorId_3</td>\n",
       "      <td>2018-11-21 16:03:32</td>\n",
       "      <td>LoanApplicationId_1629</td>\n",
       "      <td>PayBackId_1719</td>\n",
       "      <td>ThirdPartyId_1010</td>\n",
       "      <td>0.0</td>\n",
       "      <td>0.0</td>\n",
       "      <td>1</td>\n",
       "      <td>1479</td>\n",
       "      <td>386</td>\n",
       "      <td>1</td>\n",
       "      <td>2018</td>\n",
       "      <td>10</td>\n",
       "      <td>22</td>\n",
       "    </tr>\n",
       "    <tr>\n",
       "      <th>17</th>\n",
       "      <td>CustomerId_305</td>\n",
       "      <td>2018-10-23 13:12:23</td>\n",
       "      <td>500.0</td>\n",
       "      <td>-500.0</td>\n",
       "      <td>TransactionId_1297</td>\n",
       "      <td>BatchId_2016</td>\n",
       "      <td>SubscriptionId_1</td>\n",
       "      <td>UGX</td>\n",
       "      <td>256</td>\n",
       "      <td>ProviderId_1</td>\n",
       "      <td>ProductId_7</td>\n",
       "      <td>airtime</td>\n",
       "      <td>ChannelId_1</td>\n",
       "      <td>1</td>\n",
       "      <td>2018-10-23 13:12:21</td>\n",
       "      <td>543.0</td>\n",
       "      <td>UGX</td>\n",
       "      <td>LoanId_1619</td>\n",
       "      <td>2018-10-23 13:18:42</td>\n",
       "      <td>1.0</td>\n",
       "      <td>InvestorId_2</td>\n",
       "      <td>2018-11-22 13:12:16</td>\n",
       "      <td>LoanApplicationId_136</td>\n",
       "      <td>PayBackId_725</td>\n",
       "      <td>ThirdPartyId_1566</td>\n",
       "      <td>0.0</td>\n",
       "      <td>0.0</td>\n",
       "      <td>143</td>\n",
       "      <td>1479</td>\n",
       "      <td>386</td>\n",
       "      <td>1</td>\n",
       "      <td>2018</td>\n",
       "      <td>10</td>\n",
       "      <td>23</td>\n",
       "    </tr>\n",
       "  </tbody>\n",
       "</table>\n",
       "</div>"
      ],
      "text/plain": [
       "        CustomerId TransactionStartTime   Value  Amount       TransactionId  \\\n",
       "15  CustomerId_233  2018-10-22 16:04:25  5000.0 -5000.0  TransactionId_2632   \n",
       "17  CustomerId_305  2018-10-23 13:12:23   500.0  -500.0  TransactionId_1297   \n",
       "\n",
       "         BatchId    SubscriptionId CurrencyCode  CountryCode    ProviderId  \\\n",
       "15   BatchId_775  SubscriptionId_4          UGX          256  ProviderId_1   \n",
       "17  BatchId_2016  SubscriptionId_1          UGX          256  ProviderId_1   \n",
       "\n",
       "      ProductId ProductCategory    ChannelId  TransactionStatus  \\\n",
       "15  ProductId_7         airtime  ChannelId_1                  1   \n",
       "17  ProductId_7         airtime  ChannelId_1                  1   \n",
       "\n",
       "         IssuedDateLoan  AmountLoan Currency       LoanId  \\\n",
       "15  2018-10-22 16:04:22      5375.0      UGX   LoanId_317   \n",
       "17  2018-10-23 13:12:21       543.0      UGX  LoanId_1619   \n",
       "\n",
       "             PaidOnDate  IsFinalPayBack    InvestorId              DueDate  \\\n",
       "15  2018-10-30 06:49:57             1.0  InvestorId_3  2018-11-21 16:03:32   \n",
       "17  2018-10-23 13:18:42             1.0  InvestorId_2  2018-11-22 13:12:16   \n",
       "\n",
       "         LoanApplicationId       PayBackId       ThirdPartyId  \\\n",
       "15  LoanApplicationId_1629  PayBackId_1719  ThirdPartyId_1010   \n",
       "17   LoanApplicationId_136   PayBackId_725  ThirdPartyId_1566   \n",
       "\n",
       "    IsThirdPartyConfirmed  IsDefaulted  customer_subscriptions  \\\n",
       "15                    0.0          0.0                       1   \n",
       "17                    0.0          0.0                     143   \n",
       "\n",
       "    customer_providers  customer_products  customer_loanids  year  month  day  \n",
       "15                1479                386                 1  2018     10   22  \n",
       "17                1479                386                 1  2018     10   23  "
      ]
     },
     "execution_count": 11,
     "metadata": {},
     "output_type": "execute_result"
    }
   ],
   "source": [
    "train.head(2)"
   ]
  },
  {
   "cell_type": "code",
   "execution_count": 12,
   "metadata": {},
   "outputs": [],
   "source": [
    "train.drop(['CurrencyCode', 'CountryCode', 'TransactionStatus', 'IssuedDateLoan', 'PayBackId','IsThirdPartyConfirmed',\n",
    "           'AmountLoan', 'Currency', 'LoanId','PaidOnDate', 'IsFinalPayBack','DueDate','ProviderId', 'ChannelId'], axis = 1, inplace = True)\n",
    "test.drop(['CurrencyCode', 'CountryCode', 'TransactionStatus', 'IssuedDateLoan', 'LoanId','ProviderId', 'ChannelId'], axis = 1, inplace = True)"
   ]
  },
  {
   "cell_type": "code",
   "execution_count": 13,
   "metadata": {},
   "outputs": [],
   "source": [
    "#no of customers Transactions \n",
    "m1 = train.groupby('CustomerId')['TransactionId'].count()\n",
    "m2 = test.groupby('CustomerId')['TransactionId'].count()\n",
    "train['no_trans'] = train['CustomerId'].map(m1)\n",
    "test['no_trans'] = test['CustomerId'].map(m2)\n",
    "\n",
    "#train['no_trans1'] = train['CustomerId'].map(train['CustomerId'].value_counts().to_dict())"
   ]
  },
  {
   "cell_type": "code",
   "execution_count": 14,
   "metadata": {},
   "outputs": [],
   "source": [
    "train = pd.get_dummies(train, columns = ['ProductCategory', 'ProductId', 'InvestorId'])\n",
    "test = pd.get_dummies(test, columns = ['ProductCategory', 'ProductId', 'InvestorId'])"
   ]
  },
  {
   "cell_type": "code",
   "execution_count": 15,
   "metadata": {},
   "outputs": [],
   "source": [
    "train.drop(['CustomerId', 'TransactionStartTime','BatchId', 'SubscriptionId', \n",
    "            'LoanApplicationId', 'ThirdPartyId','ProductCategory_movies'], axis = 1, inplace = True)\n",
    "test.drop(['CustomerId', 'TransactionStartTime','BatchId', 'SubscriptionId', \n",
    "            'LoanApplicationId', 'ThirdPartyId',], axis = 1, inplace = True)"
   ]
  },
  {
   "cell_type": "code",
   "execution_count": 16,
   "metadata": {},
   "outputs": [
    {
     "data": {
      "text/html": [
       "<div>\n",
       "<style scoped>\n",
       "    .dataframe tbody tr th:only-of-type {\n",
       "        vertical-align: middle;\n",
       "    }\n",
       "\n",
       "    .dataframe tbody tr th {\n",
       "        vertical-align: top;\n",
       "    }\n",
       "\n",
       "    .dataframe thead th {\n",
       "        text-align: right;\n",
       "    }\n",
       "</style>\n",
       "<table border=\"1\" class=\"dataframe\">\n",
       "  <thead>\n",
       "    <tr style=\"text-align: right;\">\n",
       "      <th></th>\n",
       "      <th>Value</th>\n",
       "      <th>Amount</th>\n",
       "      <th>TransactionId</th>\n",
       "      <th>IsDefaulted</th>\n",
       "      <th>customer_subscriptions</th>\n",
       "      <th>customer_providers</th>\n",
       "      <th>customer_products</th>\n",
       "      <th>customer_loanids</th>\n",
       "      <th>year</th>\n",
       "      <th>month</th>\n",
       "      <th>day</th>\n",
       "      <th>no_trans</th>\n",
       "      <th>ProductCategory_airtime</th>\n",
       "      <th>ProductCategory_data_bundles</th>\n",
       "      <th>ProductCategory_financial_services</th>\n",
       "      <th>ProductCategory_retail</th>\n",
       "      <th>ProductCategory_tv</th>\n",
       "      <th>ProductCategory_utility_bill</th>\n",
       "      <th>ProductId_ProductId_1</th>\n",
       "      <th>ProductId_ProductId_10</th>\n",
       "      <th>ProductId_ProductId_13</th>\n",
       "      <th>ProductId_ProductId_15</th>\n",
       "      <th>ProductId_ProductId_16</th>\n",
       "      <th>ProductId_ProductId_17</th>\n",
       "      <th>ProductId_ProductId_18</th>\n",
       "      <th>ProductId_ProductId_2</th>\n",
       "      <th>ProductId_ProductId_3</th>\n",
       "      <th>ProductId_ProductId_4</th>\n",
       "      <th>ProductId_ProductId_5</th>\n",
       "      <th>ProductId_ProductId_6</th>\n",
       "      <th>ProductId_ProductId_7</th>\n",
       "      <th>ProductId_ProductId_8</th>\n",
       "      <th>ProductId_ProductId_9</th>\n",
       "      <th>InvestorId_InvestorId_1</th>\n",
       "      <th>InvestorId_InvestorId_2</th>\n",
       "      <th>InvestorId_InvestorId_3</th>\n",
       "    </tr>\n",
       "  </thead>\n",
       "  <tbody>\n",
       "    <tr>\n",
       "      <th>15</th>\n",
       "      <td>5000.0</td>\n",
       "      <td>-5000.0</td>\n",
       "      <td>TransactionId_2632</td>\n",
       "      <td>0.0</td>\n",
       "      <td>1</td>\n",
       "      <td>1479</td>\n",
       "      <td>386</td>\n",
       "      <td>1</td>\n",
       "      <td>2018</td>\n",
       "      <td>10</td>\n",
       "      <td>22</td>\n",
       "      <td>40</td>\n",
       "      <td>1</td>\n",
       "      <td>0</td>\n",
       "      <td>0</td>\n",
       "      <td>0</td>\n",
       "      <td>0</td>\n",
       "      <td>0</td>\n",
       "      <td>0</td>\n",
       "      <td>0</td>\n",
       "      <td>0</td>\n",
       "      <td>0</td>\n",
       "      <td>0</td>\n",
       "      <td>0</td>\n",
       "      <td>0</td>\n",
       "      <td>0</td>\n",
       "      <td>0</td>\n",
       "      <td>0</td>\n",
       "      <td>0</td>\n",
       "      <td>0</td>\n",
       "      <td>1</td>\n",
       "      <td>0</td>\n",
       "      <td>0</td>\n",
       "      <td>0</td>\n",
       "      <td>0</td>\n",
       "      <td>1</td>\n",
       "    </tr>\n",
       "    <tr>\n",
       "      <th>17</th>\n",
       "      <td>500.0</td>\n",
       "      <td>-500.0</td>\n",
       "      <td>TransactionId_1297</td>\n",
       "      <td>0.0</td>\n",
       "      <td>143</td>\n",
       "      <td>1479</td>\n",
       "      <td>386</td>\n",
       "      <td>1</td>\n",
       "      <td>2018</td>\n",
       "      <td>10</td>\n",
       "      <td>23</td>\n",
       "      <td>5</td>\n",
       "      <td>1</td>\n",
       "      <td>0</td>\n",
       "      <td>0</td>\n",
       "      <td>0</td>\n",
       "      <td>0</td>\n",
       "      <td>0</td>\n",
       "      <td>0</td>\n",
       "      <td>0</td>\n",
       "      <td>0</td>\n",
       "      <td>0</td>\n",
       "      <td>0</td>\n",
       "      <td>0</td>\n",
       "      <td>0</td>\n",
       "      <td>0</td>\n",
       "      <td>0</td>\n",
       "      <td>0</td>\n",
       "      <td>0</td>\n",
       "      <td>0</td>\n",
       "      <td>1</td>\n",
       "      <td>0</td>\n",
       "      <td>0</td>\n",
       "      <td>0</td>\n",
       "      <td>1</td>\n",
       "      <td>0</td>\n",
       "    </tr>\n",
       "  </tbody>\n",
       "</table>\n",
       "</div>"
      ],
      "text/plain": [
       "     Value  Amount       TransactionId  IsDefaulted  customer_subscriptions  \\\n",
       "15  5000.0 -5000.0  TransactionId_2632          0.0                       1   \n",
       "17   500.0  -500.0  TransactionId_1297          0.0                     143   \n",
       "\n",
       "    customer_providers  customer_products  customer_loanids  year  month  day  \\\n",
       "15                1479                386                 1  2018     10   22   \n",
       "17                1479                386                 1  2018     10   23   \n",
       "\n",
       "    no_trans  ProductCategory_airtime  ProductCategory_data_bundles  \\\n",
       "15        40                        1                             0   \n",
       "17         5                        1                             0   \n",
       "\n",
       "    ProductCategory_financial_services  ProductCategory_retail  \\\n",
       "15                                   0                       0   \n",
       "17                                   0                       0   \n",
       "\n",
       "    ProductCategory_tv  ProductCategory_utility_bill  ProductId_ProductId_1  \\\n",
       "15                   0                             0                      0   \n",
       "17                   0                             0                      0   \n",
       "\n",
       "    ProductId_ProductId_10  ProductId_ProductId_13  ProductId_ProductId_15  \\\n",
       "15                       0                       0                       0   \n",
       "17                       0                       0                       0   \n",
       "\n",
       "    ProductId_ProductId_16  ProductId_ProductId_17  ProductId_ProductId_18  \\\n",
       "15                       0                       0                       0   \n",
       "17                       0                       0                       0   \n",
       "\n",
       "    ProductId_ProductId_2  ProductId_ProductId_3  ProductId_ProductId_4  \\\n",
       "15                      0                      0                      0   \n",
       "17                      0                      0                      0   \n",
       "\n",
       "    ProductId_ProductId_5  ProductId_ProductId_6  ProductId_ProductId_7  \\\n",
       "15                      0                      0                      1   \n",
       "17                      0                      0                      1   \n",
       "\n",
       "    ProductId_ProductId_8  ProductId_ProductId_9  InvestorId_InvestorId_1  \\\n",
       "15                      0                      0                        0   \n",
       "17                      0                      0                        0   \n",
       "\n",
       "    InvestorId_InvestorId_2  InvestorId_InvestorId_3  \n",
       "15                        0                        1  \n",
       "17                        1                        0  "
      ]
     },
     "execution_count": 16,
     "metadata": {},
     "output_type": "execute_result"
    }
   ],
   "source": [
    "train.head(2)"
   ]
  },
  {
   "cell_type": "markdown",
   "metadata": {},
   "source": [
    "### Interactions"
   ]
  },
  {
   "cell_type": "code",
   "execution_count": 17,
   "metadata": {},
   "outputs": [],
   "source": [
    "train['prov_prod'] = train['customer_providers'] + train['customer_products']\n",
    "\n",
    "test['prov_prod'] = test['customer_providers'] + test['customer_products']\n",
    "\n",
    "train['3int'] = train['customer_providers'] + train['customer_products'] + train['customer_subscriptions']\n",
    "test['3int'] = test['customer_providers'] + test['customer_products'] + test['customer_subscriptions']"
   ]
  },
  {
   "cell_type": "code",
   "execution_count": 16,
   "metadata": {},
   "outputs": [
    {
     "data": {
      "text/html": [
       "<div>\n",
       "<style scoped>\n",
       "    .dataframe tbody tr th:only-of-type {\n",
       "        vertical-align: middle;\n",
       "    }\n",
       "\n",
       "    .dataframe tbody tr th {\n",
       "        vertical-align: top;\n",
       "    }\n",
       "\n",
       "    .dataframe thead th {\n",
       "        text-align: right;\n",
       "    }\n",
       "</style>\n",
       "<table border=\"1\" class=\"dataframe\">\n",
       "  <thead>\n",
       "    <tr style=\"text-align: right;\">\n",
       "      <th></th>\n",
       "      <th>Value</th>\n",
       "      <th>Amount</th>\n",
       "      <th>TransactionId</th>\n",
       "      <th>IsDefaulted</th>\n",
       "      <th>customer_subscriptions</th>\n",
       "      <th>customer_providers</th>\n",
       "      <th>customer_products</th>\n",
       "      <th>customer_loanids</th>\n",
       "      <th>year</th>\n",
       "      <th>month</th>\n",
       "      <th>day</th>\n",
       "      <th>no_trans</th>\n",
       "      <th>ProductCategory_airtime</th>\n",
       "      <th>ProductCategory_data_bundles</th>\n",
       "      <th>ProductCategory_financial_services</th>\n",
       "      <th>ProductCategory_retail</th>\n",
       "      <th>ProductCategory_tv</th>\n",
       "      <th>ProductCategory_utility_bill</th>\n",
       "      <th>ProductId_ProductId_1</th>\n",
       "      <th>ProductId_ProductId_10</th>\n",
       "      <th>ProductId_ProductId_13</th>\n",
       "      <th>ProductId_ProductId_15</th>\n",
       "      <th>ProductId_ProductId_16</th>\n",
       "      <th>ProductId_ProductId_17</th>\n",
       "      <th>ProductId_ProductId_18</th>\n",
       "      <th>ProductId_ProductId_2</th>\n",
       "      <th>ProductId_ProductId_3</th>\n",
       "      <th>ProductId_ProductId_4</th>\n",
       "      <th>ProductId_ProductId_5</th>\n",
       "      <th>ProductId_ProductId_6</th>\n",
       "      <th>ProductId_ProductId_7</th>\n",
       "      <th>ProductId_ProductId_8</th>\n",
       "      <th>ProductId_ProductId_9</th>\n",
       "      <th>InvestorId_InvestorId_1</th>\n",
       "      <th>InvestorId_InvestorId_2</th>\n",
       "      <th>InvestorId_InvestorId_3</th>\n",
       "      <th>prov_prod</th>\n",
       "      <th>3int</th>\n",
       "    </tr>\n",
       "  </thead>\n",
       "  <tbody>\n",
       "    <tr>\n",
       "      <th>15</th>\n",
       "      <td>5000.0</td>\n",
       "      <td>-5000.0</td>\n",
       "      <td>TransactionId_2632</td>\n",
       "      <td>0.0</td>\n",
       "      <td>1</td>\n",
       "      <td>1479</td>\n",
       "      <td>386</td>\n",
       "      <td>1</td>\n",
       "      <td>2018</td>\n",
       "      <td>10</td>\n",
       "      <td>22</td>\n",
       "      <td>40</td>\n",
       "      <td>1</td>\n",
       "      <td>0</td>\n",
       "      <td>0</td>\n",
       "      <td>0</td>\n",
       "      <td>0</td>\n",
       "      <td>0</td>\n",
       "      <td>0</td>\n",
       "      <td>0</td>\n",
       "      <td>0</td>\n",
       "      <td>0</td>\n",
       "      <td>0</td>\n",
       "      <td>0</td>\n",
       "      <td>0</td>\n",
       "      <td>0</td>\n",
       "      <td>0</td>\n",
       "      <td>0</td>\n",
       "      <td>0</td>\n",
       "      <td>0</td>\n",
       "      <td>1</td>\n",
       "      <td>0</td>\n",
       "      <td>0</td>\n",
       "      <td>0</td>\n",
       "      <td>0</td>\n",
       "      <td>1</td>\n",
       "      <td>1865</td>\n",
       "      <td>1866</td>\n",
       "    </tr>\n",
       "    <tr>\n",
       "      <th>17</th>\n",
       "      <td>500.0</td>\n",
       "      <td>-500.0</td>\n",
       "      <td>TransactionId_1297</td>\n",
       "      <td>0.0</td>\n",
       "      <td>143</td>\n",
       "      <td>1479</td>\n",
       "      <td>386</td>\n",
       "      <td>1</td>\n",
       "      <td>2018</td>\n",
       "      <td>10</td>\n",
       "      <td>23</td>\n",
       "      <td>5</td>\n",
       "      <td>1</td>\n",
       "      <td>0</td>\n",
       "      <td>0</td>\n",
       "      <td>0</td>\n",
       "      <td>0</td>\n",
       "      <td>0</td>\n",
       "      <td>0</td>\n",
       "      <td>0</td>\n",
       "      <td>0</td>\n",
       "      <td>0</td>\n",
       "      <td>0</td>\n",
       "      <td>0</td>\n",
       "      <td>0</td>\n",
       "      <td>0</td>\n",
       "      <td>0</td>\n",
       "      <td>0</td>\n",
       "      <td>0</td>\n",
       "      <td>0</td>\n",
       "      <td>1</td>\n",
       "      <td>0</td>\n",
       "      <td>0</td>\n",
       "      <td>0</td>\n",
       "      <td>1</td>\n",
       "      <td>0</td>\n",
       "      <td>1865</td>\n",
       "      <td>2008</td>\n",
       "    </tr>\n",
       "  </tbody>\n",
       "</table>\n",
       "</div>"
      ],
      "text/plain": [
       "     Value  Amount       TransactionId  IsDefaulted  customer_subscriptions  \\\n",
       "15  5000.0 -5000.0  TransactionId_2632          0.0                       1   \n",
       "17   500.0  -500.0  TransactionId_1297          0.0                     143   \n",
       "\n",
       "    customer_providers  customer_products  customer_loanids  year  month  day  \\\n",
       "15                1479                386                 1  2018     10   22   \n",
       "17                1479                386                 1  2018     10   23   \n",
       "\n",
       "    no_trans  ProductCategory_airtime  ProductCategory_data_bundles  \\\n",
       "15        40                        1                             0   \n",
       "17         5                        1                             0   \n",
       "\n",
       "    ProductCategory_financial_services  ProductCategory_retail  \\\n",
       "15                                   0                       0   \n",
       "17                                   0                       0   \n",
       "\n",
       "    ProductCategory_tv  ProductCategory_utility_bill  ProductId_ProductId_1  \\\n",
       "15                   0                             0                      0   \n",
       "17                   0                             0                      0   \n",
       "\n",
       "    ProductId_ProductId_10  ProductId_ProductId_13  ProductId_ProductId_15  \\\n",
       "15                       0                       0                       0   \n",
       "17                       0                       0                       0   \n",
       "\n",
       "    ProductId_ProductId_16  ProductId_ProductId_17  ProductId_ProductId_18  \\\n",
       "15                       0                       0                       0   \n",
       "17                       0                       0                       0   \n",
       "\n",
       "    ProductId_ProductId_2  ProductId_ProductId_3  ProductId_ProductId_4  \\\n",
       "15                      0                      0                      0   \n",
       "17                      0                      0                      0   \n",
       "\n",
       "    ProductId_ProductId_5  ProductId_ProductId_6  ProductId_ProductId_7  \\\n",
       "15                      0                      0                      1   \n",
       "17                      0                      0                      1   \n",
       "\n",
       "    ProductId_ProductId_8  ProductId_ProductId_9  InvestorId_InvestorId_1  \\\n",
       "15                      0                      0                        0   \n",
       "17                      0                      0                        0   \n",
       "\n",
       "    InvestorId_InvestorId_2  InvestorId_InvestorId_3  prov_prod  3int  \n",
       "15                        0                        1       1865  1866  \n",
       "17                        1                        0       1865  2008  "
      ]
     },
     "execution_count": 16,
     "metadata": {},
     "output_type": "execute_result"
    }
   ],
   "source": [
    "train.head(2)"
   ]
  },
  {
   "cell_type": "code",
   "execution_count": 17,
   "metadata": {},
   "outputs": [],
   "source": [
    "from sklearn.model_selection import train_test_split\n",
    "from sklearn.metrics import f1_score, confusion_matrix, recall_score, accuracy_score, roc_auc_score, auc, roc_curve, classification_report\n",
    "from sklearn.preprocessing import StandardScaler, RobustScaler, Normalizer, MinMaxScaler, PolynomialFeatures\n",
    "from sklearn.pipeline import make_pipeline\n",
    "\n",
    "sd = StandardScaler()\n",
    "nm = Normalizer()\n",
    "minmax = MinMaxScaler()\n",
    "rb = RobustScaler()\n",
    "poly = PolynomialFeatures()"
   ]
  },
  {
   "cell_type": "code",
   "execution_count": 18,
   "metadata": {},
   "outputs": [],
   "source": [
    "tain_trans = train['TransactionId']\n",
    "test_tranns = test['TransactionId']\n",
    "X = train.drop(['TransactionId', 'IsDefaulted','ProductId_ProductId_16','ProductId_ProductId_17',\n",
    "                'ProductId_ProductId_2','InvestorId_InvestorId_3',], axis = 1)\n",
    "y = train.IsDefaulted\n",
    "\n",
    "x_train, x_test, y_train, y_test = train_test_split(X, y, test_size= 0.20, random_state = 9)"
   ]
  },
  {
   "cell_type": "code",
   "execution_count": 19,
   "metadata": {},
   "outputs": [],
   "source": [
    "from xgboost import XGBClassifier\n",
    "from catboost import CatBoostClassifier"
   ]
  },
  {
   "cell_type": "code",
   "execution_count": 20,
   "metadata": {},
   "outputs": [],
   "source": [
    "xgb = XGBClassifier(base_score = 0.5, n_estimators =200,colsample_bylevel=0.8,gamma=0.04,max_depth=10,\n",
    "                    learning_rate = 0.04,scale_pos_weight = 5, min_child_weight = 6,seed = 12)\n",
    "cb = CatBoostClassifier()"
   ]
  },
  {
   "cell_type": "code",
   "execution_count": 40,
   "metadata": {},
   "outputs": [],
   "source": [
    "cb_model=CatBoostClassifier(n_estimators=800,eval_metric='AUC',max_depth=5,learning_rate=0.1,od_wait=50, \n",
    "                              subsample=0.9,bootstrap_type='Bernoulli',metric_period=20,\n",
    "                     #l2_leaf_reg=5,#bagging_temperature=0.85,random_strength=100,\n",
    "                     use_best_model=True)"
   ]
  },
  {
   "cell_type": "code",
   "execution_count": 41,
   "metadata": {},
   "outputs": [
    {
     "name": "stderr",
     "output_type": "stream",
     "text": [
      "Warning: Overfitting detector is active, thus evaluation metric is calculated on every iteration. 'metric_period' is ignored for evaluation metric.\n"
     ]
    },
    {
     "name": "stdout",
     "output_type": "stream",
     "text": [
      "0:\ttest: 0.9104238\tbest: 0.9104238 (0)\ttotal: 25.1ms\tremaining: 20s\n",
      "20:\ttest: 0.9764225\tbest: 0.9764225 (20)\ttotal: 591ms\tremaining: 21.9s\n",
      "40:\ttest: 0.9791801\tbest: 0.9802831 (36)\ttotal: 1.13s\tremaining: 20.9s\n",
      "60:\ttest: 0.9816619\tbest: 0.9817538 (55)\ttotal: 1.7s\tremaining: 20.6s\n",
      "80:\ttest: 0.9829488\tbest: 0.9833165 (75)\ttotal: 2.23s\tremaining: 19.8s\n",
      "100:\ttest: 0.9832246\tbest: 0.9836842 (87)\ttotal: 2.74s\tremaining: 19s\n",
      "120:\ttest: 0.9846953\tbest: 0.9848791 (113)\ttotal: 3.25s\tremaining: 18.2s\n",
      "140:\ttest: 0.9854306\tbest: 0.9860741 (131)\ttotal: 3.79s\tremaining: 17.7s\n",
      "160:\ttest: 0.9858902\tbest: 0.9860741 (131)\ttotal: 4.32s\tremaining: 17.1s\n",
      "180:\ttest: 0.9866256\tbest: 0.9868094 (169)\ttotal: 4.85s\tremaining: 16.6s\n",
      "200:\ttest: 0.9869014\tbest: 0.9869014 (200)\ttotal: 5.38s\tremaining: 16s\n",
      "220:\ttest: 0.9873610\tbest: 0.9874529 (215)\ttotal: 5.9s\tremaining: 15.5s\n",
      "240:\ttest: 0.9876367\tbest: 0.9876367 (240)\ttotal: 6.45s\tremaining: 15s\n",
      "260:\ttest: 0.9870852\tbest: 0.9876367 (240)\ttotal: 6.98s\tremaining: 14.4s\n",
      "280:\ttest: 0.9866256\tbest: 0.9876367 (240)\ttotal: 7.54s\tremaining: 13.9s\n",
      "Stopped by overfitting detector  (50 iterations wait)\n",
      "\n",
      "bestTest = 0.9876367313\n",
      "bestIteration = 240\n",
      "\n",
      "Shrink model to first 241 iterations.\n"
     ]
    },
    {
     "data": {
      "text/plain": [
       "<catboost.core.CatBoostClassifier at 0xc0a3ac8>"
      ]
     },
     "execution_count": 41,
     "metadata": {},
     "output_type": "execute_result"
    }
   ],
   "source": [
    "cb_model.fit(x_train,y_train, eval_set=(x_test, y_test))"
   ]
  },
  {
   "cell_type": "code",
   "execution_count": 23,
   "metadata": {},
   "outputs": [
    {
     "data": {
      "text/plain": [
       "Pipeline(memory=None,\n",
       "     steps=[('xgbclassifier', XGBClassifier(base_score=0.5, booster='gbtree', colsample_bylevel=0.8,\n",
       "       colsample_bytree=1, gamma=0.04, learning_rate=0.04,\n",
       "       max_delta_step=0, max_depth=10, min_child_weight=6, missing=None,\n",
       "       n_estimators=200, n_jobs=1, nthread=None,\n",
       "       objective='binary:logistic', random_state=0, reg_alpha=0,\n",
       "       reg_lambda=1, scale_pos_weight=5, seed=12, silent=True, subsample=1))])"
      ]
     },
     "execution_count": 23,
     "metadata": {},
     "output_type": "execute_result"
    }
   ],
   "source": [
    "pipe2 = make_pipeline(xgb)\n",
    "\n",
    "pipe2.fit(x_train, y_train)"
   ]
  },
  {
   "cell_type": "code",
   "execution_count": 23,
   "metadata": {},
   "outputs": [],
   "source": [
    "pred = (cb_model.predict_proba(x_test)[:,1]).astype('float')"
   ]
  },
  {
   "cell_type": "code",
   "execution_count": 24,
   "metadata": {},
   "outputs": [
    {
     "data": {
      "text/plain": [
       "0.9858902472653736"
      ]
     },
     "execution_count": 24,
     "metadata": {},
     "output_type": "execute_result"
    }
   ],
   "source": [
    "roc_auc_score(y_test, pred)"
   ]
  },
  {
   "cell_type": "code",
   "execution_count": 26,
   "metadata": {},
   "outputs": [
    {
     "data": {
      "text/plain": [
       "0.9876367313172165"
      ]
     },
     "execution_count": 26,
     "metadata": {},
     "output_type": "execute_result"
    }
   ],
   "source": [
    "fpr, tpr, thresholds = roc_curve(y_test, pred,pos_label = 1)\n",
    "auc(fpr, tpr)"
   ]
  },
  {
   "cell_type": "code",
   "execution_count": 39,
   "metadata": {},
   "outputs": [
    {
     "name": "stdout",
     "output_type": "stream",
     "text": [
      "0.971653778320445\n"
     ]
    },
    {
     "data": {
      "text/plain": [
       "array([0.970194  , 0.97592593, 0.98174603, 0.96245421, 0.96794872])"
      ]
     },
     "execution_count": 39,
     "metadata": {},
     "output_type": "execute_result"
    }
   ],
   "source": [
    "#cross validation\n",
    "from sklearn.model_selection import cross_val_score, KFold, StratifiedKFold, ShuffleSplit\n",
    "kfold = KFold(n_splits = 5, shuffle = True, random_state = 0)\n",
    "skfold = StratifiedKFold(n_splits = 5, shuffle = True, random_state = 0)\n",
    "shuffle = ShuffleSplit(test_size = 0.5,train_size = 0.5, n_splits = 5)\n",
    "\n",
    "val = cross_val_score(pipe2, x_train, y_train,scoring = 'roc_auc', cv = skfold)\n",
    "print(val.mean())\n",
    "val"
   ]
  },
  {
   "cell_type": "code",
   "execution_count": 44,
   "metadata": {},
   "outputs": [
    {
     "data": {
      "text/plain": [
       "GridSearchCV(cv=StratifiedKFold(n_splits=5, random_state=0, shuffle=True),\n",
       "       error_score='raise-deprecating',\n",
       "       estimator=XGBClassifier(base_score=0.5, booster='gbtree', colsample_bylevel=0.8,\n",
       "       colsample_bytree=1, gamma=0.04, learning_rate=0.04,\n",
       "       max_delta_step=0, max_depth=10, min_child_weight=6, missing=None,\n",
       "       n_estimators=200, n_jobs=1, nthread=None,\n",
       "       objective='binary:logistic', random_state=0, reg_alpha=0,\n",
       "       reg_lambda=1, scale_pos_weight=5, seed=12, silent=True, subsample=1),\n",
       "       fit_params=None, iid='warn', n_jobs=None,\n",
       "       param_grid={'learning_rate': [0.1, 0.02, 0.03, 0.04, 0.05, 0.25], 'max_depth': [10, 20, 30, 40, 100]},\n",
       "       pre_dispatch='2*n_jobs', refit=True, return_train_score='warn',\n",
       "       scoring='roc_auc', verbose=0)"
      ]
     },
     "execution_count": 44,
     "metadata": {},
     "output_type": "execute_result"
    }
   ],
   "source": [
    "#Grid Search\n",
    "from sklearn.model_selection import GridSearchCV\n",
    "params = {'learning_rate': [0.1,0.02,0.03,0.04,0.05,0.25], 'max_depth': [10, 20, 30, 40,100]}\n",
    "grid = GridSearchCV(xgb, params, scoring = 'roc_auc', cv = skfold )\n",
    "grid.fit(X,y)"
   ]
  },
  {
   "cell_type": "code",
   "execution_count": 45,
   "metadata": {},
   "outputs": [
    {
     "name": "stdout",
     "output_type": "stream",
     "text": [
      "best parameter: {'learning_rate': 0.1, 'max_depth': 10}\n",
      "best score: 0.9820286033862308\n",
      "estimator: \n",
      "XGBClassifier(base_score=0.5, booster='gbtree', colsample_bylevel=0.8,\n",
      "       colsample_bytree=1, gamma=0.04, learning_rate=0.1, max_delta_step=0,\n",
      "       max_depth=10, min_child_weight=6, missing=None, n_estimators=200,\n",
      "       n_jobs=1, nthread=None, objective='binary:logistic', random_state=0,\n",
      "       reg_alpha=0, reg_lambda=1, scale_pos_weight=5, seed=12, silent=True,\n",
      "       subsample=1)\n"
     ]
    }
   ],
   "source": [
    "print(\"best parameter: {}\".format(grid.best_params_))\n",
    "print(\"best score: {}\".format(grid.best_score_))\n",
    "print(\"estimator: \\n{}\".format(grid.best_estimator_))"
   ]
  },
  {
   "cell_type": "markdown",
   "metadata": {},
   "source": [
    "## Predicting On Test"
   ]
  },
  {
   "cell_type": "code",
   "execution_count": 32,
   "metadata": {},
   "outputs": [],
   "source": [
    "xtest = test.drop(['TransactionId','ProductCategory_ticket','ProductId_ProductId_11','ProductId_ProductId_14',\n",
    "                   'ProductId_ProductId_19',],axis = 1)"
   ]
  },
  {
   "cell_type": "code",
   "execution_count": 33,
   "metadata": {},
   "outputs": [
    {
     "name": "stdout",
     "output_type": "stream",
     "text": [
      "(478, 32)\n",
      "(1479, 32)\n"
     ]
    }
   ],
   "source": [
    "print(xtest.shape)\n",
    "print(X.shape)"
   ]
  },
  {
   "cell_type": "code",
   "execution_count": 34,
   "metadata": {},
   "outputs": [],
   "source": [
    "pred_test = cb_model.predict_proba(xtest)[:,1]\n",
    "pred_test1 = pipe2.predict_proba(xtest)[:,1]"
   ]
  },
  {
   "cell_type": "code",
   "execution_count": 35,
   "metadata": {},
   "outputs": [
    {
     "data": {
      "text/html": [
       "<div>\n",
       "<style scoped>\n",
       "    .dataframe tbody tr th:only-of-type {\n",
       "        vertical-align: middle;\n",
       "    }\n",
       "\n",
       "    .dataframe tbody tr th {\n",
       "        vertical-align: top;\n",
       "    }\n",
       "\n",
       "    .dataframe thead th {\n",
       "        text-align: right;\n",
       "    }\n",
       "</style>\n",
       "<table border=\"1\" class=\"dataframe\">\n",
       "  <thead>\n",
       "    <tr style=\"text-align: right;\">\n",
       "      <th></th>\n",
       "      <th>TransactionId</th>\n",
       "      <th>IsDefaulted</th>\n",
       "    </tr>\n",
       "  </thead>\n",
       "  <tbody>\n",
       "    <tr>\n",
       "      <th>0</th>\n",
       "      <td>TransactionId_925</td>\n",
       "      <td>0.039724</td>\n",
       "    </tr>\n",
       "    <tr>\n",
       "      <th>1</th>\n",
       "      <td>TransactionId_1080</td>\n",
       "      <td>0.000863</td>\n",
       "    </tr>\n",
       "    <tr>\n",
       "      <th>2</th>\n",
       "      <td>TransactionId_2315</td>\n",
       "      <td>0.001206</td>\n",
       "    </tr>\n",
       "    <tr>\n",
       "      <th>3</th>\n",
       "      <td>TransactionId_1466</td>\n",
       "      <td>0.000454</td>\n",
       "    </tr>\n",
       "    <tr>\n",
       "      <th>4</th>\n",
       "      <td>TransactionId_337</td>\n",
       "      <td>0.000388</td>\n",
       "    </tr>\n",
       "  </tbody>\n",
       "</table>\n",
       "</div>"
      ],
      "text/plain": [
       "        TransactionId  IsDefaulted\n",
       "0   TransactionId_925     0.039724\n",
       "1  TransactionId_1080     0.000863\n",
       "2  TransactionId_2315     0.001206\n",
       "3  TransactionId_1466     0.000454\n",
       "4   TransactionId_337     0.000388"
      ]
     },
     "execution_count": 35,
     "metadata": {},
     "output_type": "execute_result"
    }
   ],
   "source": [
    "d ={'TransactionId': test['TransactionId'], 'IsDefaulted': pred_test}\n",
    "sub = pd.DataFrame(data = d)\n",
    "d1 ={'TransactionId': test['TransactionId'], 'IsDefaulted': pred_test}\n",
    "sub1 = pd.DataFrame(data = d1)\n",
    "sub.head()"
   ]
  },
  {
   "cell_type": "code",
   "execution_count": 36,
   "metadata": {},
   "outputs": [],
   "source": [
    "sub.to_csv('cb_model.csv', index = False)\n",
    "sub1.to_csv('stack.csv', index = False)"
   ]
  },
  {
   "cell_type": "markdown",
   "metadata": {},
   "source": [
    "### Applying Stacking"
   ]
  },
  {
   "cell_type": "code",
   "execution_count": 51,
   "metadata": {},
   "outputs": [],
   "source": [
    "sub7 = pd.read_csv('cb_model.csv')\n",
    "sub8 = pd.read_csv('stack.csv')"
   ]
  },
  {
   "cell_type": "code",
   "execution_count": 52,
   "metadata": {},
   "outputs": [],
   "source": [
    "g = sub7.drop(['TransactionId'], axis = 1)\n",
    "h = sub8.drop(['TransactionId'], axis = 1)"
   ]
  },
  {
   "cell_type": "code",
   "execution_count": 53,
   "metadata": {},
   "outputs": [],
   "source": [
    "stack = (0.95 * h + 0.05 * g )"
   ]
  },
  {
   "cell_type": "code",
   "execution_count": 54,
   "metadata": {},
   "outputs": [
    {
     "data": {
      "text/html": [
       "<div>\n",
       "<style scoped>\n",
       "    .dataframe tbody tr th:only-of-type {\n",
       "        vertical-align: middle;\n",
       "    }\n",
       "\n",
       "    .dataframe tbody tr th {\n",
       "        vertical-align: top;\n",
       "    }\n",
       "\n",
       "    .dataframe thead th {\n",
       "        text-align: right;\n",
       "    }\n",
       "</style>\n",
       "<table border=\"1\" class=\"dataframe\">\n",
       "  <thead>\n",
       "    <tr style=\"text-align: right;\">\n",
       "      <th></th>\n",
       "      <th>TransactionId</th>\n",
       "      <th>IsDefaulted</th>\n",
       "    </tr>\n",
       "  </thead>\n",
       "  <tbody>\n",
       "    <tr>\n",
       "      <th>0</th>\n",
       "      <td>TransactionId_925</td>\n",
       "      <td>0.04</td>\n",
       "    </tr>\n",
       "    <tr>\n",
       "      <th>1</th>\n",
       "      <td>TransactionId_1080</td>\n",
       "      <td>0.00</td>\n",
       "    </tr>\n",
       "    <tr>\n",
       "      <th>2</th>\n",
       "      <td>TransactionId_2315</td>\n",
       "      <td>0.00</td>\n",
       "    </tr>\n",
       "    <tr>\n",
       "      <th>3</th>\n",
       "      <td>TransactionId_1466</td>\n",
       "      <td>0.00</td>\n",
       "    </tr>\n",
       "    <tr>\n",
       "      <th>4</th>\n",
       "      <td>TransactionId_337</td>\n",
       "      <td>0.00</td>\n",
       "    </tr>\n",
       "  </tbody>\n",
       "</table>\n",
       "</div>"
      ],
      "text/plain": [
       "        TransactionId  IsDefaulted\n",
       "0   TransactionId_925         0.04\n",
       "1  TransactionId_1080         0.00\n",
       "2  TransactionId_2315         0.00\n",
       "3  TransactionId_1466         0.00\n",
       "4   TransactionId_337         0.00"
      ]
     },
     "execution_count": 54,
     "metadata": {},
     "output_type": "execute_result"
    }
   ],
   "source": [
    "stack['TransactionId'] = sub1['TransactionId']\n",
    "stack = stack[['TransactionId', 'IsDefaulted']]\n",
    "stack.head().round(2)"
   ]
  },
  {
   "cell_type": "code",
   "execution_count": 55,
   "metadata": {},
   "outputs": [],
   "source": [
    "stack.to_csv('stack1.csv', index = False)"
   ]
  },
  {
   "cell_type": "code",
   "execution_count": null,
   "metadata": {},
   "outputs": [],
   "source": []
  }
 ],
 "metadata": {
  "kernelspec": {
   "display_name": "Python 3",
   "language": "python",
   "name": "python3"
  },
  "language_info": {
   "codemirror_mode": {
    "name": "ipython",
    "version": 3
   },
   "file_extension": ".py",
   "mimetype": "text/x-python",
   "name": "python",
   "nbconvert_exporter": "python",
   "pygments_lexer": "ipython3",
   "version": "3.7.1"
  }
 },
 "nbformat": 4,
 "nbformat_minor": 2
}
